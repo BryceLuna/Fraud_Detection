{
 "cells": [
  {
   "cell_type": "code",
   "execution_count": 1,
   "metadata": {
    "collapsed": true
   },
   "outputs": [],
   "source": [
    "import pandas as pd\n",
    "import matplotlib.pyplot as plt\n",
    "import numpy as np\n",
    "#%matplotlib inline"
   ]
  },
  {
   "cell_type": "code",
   "execution_count": 3,
   "metadata": {
    "collapsed": true
   },
   "outputs": [],
   "source": [
    "import scipy.stats as stats\n",
    "from matplotlib.ticker import FuncFormatter"
   ]
  },
  {
   "cell_type": "code",
   "execution_count": 4,
   "metadata": {
    "collapsed": false
   },
   "outputs": [],
   "source": [
    "df_original = pd.read_json('data/train_new.json')"
   ]
  },
  {
   "cell_type": "code",
   "execution_count": 3,
   "metadata": {
    "collapsed": true
   },
   "outputs": [],
   "source": [
    "df = df_original.copy()"
   ]
  },
  {
   "cell_type": "code",
   "execution_count": 4,
   "metadata": {
    "collapsed": false
   },
   "outputs": [],
   "source": [
    "num_rows, num_cols = df.shape"
   ]
  },
  {
   "cell_type": "markdown",
   "metadata": {},
   "source": [
    "Not all of the datatypes are correct"
   ]
  },
  {
   "cell_type": "code",
   "execution_count": 84,
   "metadata": {
    "collapsed": false
   },
   "outputs": [
    {
     "data": {
      "text/plain": [
       "acct_type              object\n",
       "approx_payout_date      int64\n",
       "body_length             int64\n",
       "channels                int64\n",
       "country                object\n",
       "currency               object\n",
       "delivery_method       float64\n",
       "description            object\n",
       "email_domain           object\n",
       "event_created           int64\n",
       "event_end               int64\n",
       "event_published       float64\n",
       "event_start             int64\n",
       "fb_published            int64\n",
       "gts                   float64\n",
       "has_analytics           int64\n",
       "has_header            float64\n",
       "has_logo                int64\n",
       "listed                 object\n",
       "name                   object\n",
       "name_length             int64\n",
       "num_order               int64\n",
       "num_payouts             int64\n",
       "object_id               int64\n",
       "org_desc               object\n",
       "org_facebook          float64\n",
       "org_name               object\n",
       "org_twitter           float64\n",
       "payee_name             object\n",
       "payout_type            object\n",
       "previous_payouts       object\n",
       "sale_duration         float64\n",
       "sale_duration2          int64\n",
       "show_map                int64\n",
       "ticket_types           object\n",
       "user_age                int64\n",
       "user_created            int64\n",
       "user_type               int64\n",
       "venue_address          object\n",
       "venue_country          object\n",
       "venue_latitude        float64\n",
       "venue_longitude       float64\n",
       "venue_name             object\n",
       "venue_state            object\n",
       "dtype: object"
      ]
     },
     "execution_count": 84,
     "metadata": {},
     "output_type": "execute_result"
    }
   ],
   "source": [
    "df.dtypes"
   ]
  },
  {
   "cell_type": "code",
   "execution_count": 85,
   "metadata": {
    "collapsed": false
   },
   "outputs": [
    {
     "data": {
      "text/plain": [
       "(14337, 44)"
      ]
     },
     "execution_count": 85,
     "metadata": {},
     "output_type": "execute_result"
    }
   ],
   "source": [
    "df.shape"
   ]
  },
  {
   "cell_type": "code",
   "execution_count": 9,
   "metadata": {
    "collapsed": false
   },
   "outputs": [
    {
     "data": {
      "text/plain": [
       "Index([         u'acct_type', u'approx_payout_date',        u'body_length',\n",
       "                 u'channels',            u'country',           u'currency',\n",
       "          u'delivery_method',        u'description',       u'email_domain',\n",
       "            u'event_created',          u'event_end',    u'event_published',\n",
       "              u'event_start',       u'fb_published',                u'gts',\n",
       "            u'has_analytics',         u'has_header',           u'has_logo',\n",
       "                   u'listed',               u'name',        u'name_length',\n",
       "                u'num_order',        u'num_payouts',          u'object_id',\n",
       "                 u'org_desc',       u'org_facebook',           u'org_name',\n",
       "              u'org_twitter',         u'payee_name',        u'payout_type',\n",
       "         u'previous_payouts',      u'sale_duration',     u'sale_duration2',\n",
       "                 u'show_map',       u'ticket_types',           u'user_age',\n",
       "             u'user_created',          u'user_type',      u'venue_address',\n",
       "            u'venue_country',     u'venue_latitude',    u'venue_longitude',\n",
       "               u'venue_name',        u'venue_state'],\n",
       "      dtype='object')"
      ]
     },
     "execution_count": 9,
     "metadata": {},
     "output_type": "execute_result"
    }
   ],
   "source": [
    "df.columns"
   ]
  },
  {
   "cell_type": "code",
   "execution_count": 31,
   "metadata": {
    "collapsed": false
   },
   "outputs": [],
   "source": [
    "col_lst = [str(s) for s in df.columns.values]"
   ]
  },
  {
   "cell_type": "code",
   "execution_count": 40,
   "metadata": {
    "collapsed": false,
    "scrolled": false
   },
   "outputs": [
    {
     "ename": "TypeError",
     "evalue": "drop_duplicates() got an unexpected keyword argument 'keep'",
     "output_type": "error",
     "traceback": [
      "\u001b[1;31m---------------------------------------------------------------------------\u001b[0m",
      "\u001b[1;31mTypeError\u001b[0m                                 Traceback (most recent call last)",
      "\u001b[1;32m<ipython-input-40-cdd8046521f3>\u001b[0m in \u001b[0;36m<module>\u001b[1;34m()\u001b[0m\n\u001b[1;32m----> 1\u001b[1;33m \u001b[0mdf\u001b[0m\u001b[1;33m.\u001b[0m\u001b[0mdrop_duplicates\u001b[0m\u001b[1;33m(\u001b[0m\u001b[0mkeep\u001b[0m\u001b[1;33m=\u001b[0m\u001b[1;34m'last'\u001b[0m\u001b[1;33m)\u001b[0m\u001b[1;33m\u001b[0m\u001b[0m\n\u001b[0m",
      "\u001b[1;32mC:\\Users\\Anon\\Anaconda\\lib\\site-packages\\pandas\\util\\decorators.pyc\u001b[0m in \u001b[0;36mwrapper\u001b[1;34m(*args, **kwargs)\u001b[0m\n\u001b[0;32m     86\u001b[0m                 \u001b[1;32melse\u001b[0m\u001b[1;33m:\u001b[0m\u001b[1;33m\u001b[0m\u001b[0m\n\u001b[0;32m     87\u001b[0m                     \u001b[0mkwargs\u001b[0m\u001b[1;33m[\u001b[0m\u001b[0mnew_arg_name\u001b[0m\u001b[1;33m]\u001b[0m \u001b[1;33m=\u001b[0m \u001b[0mnew_arg_value\u001b[0m\u001b[1;33m\u001b[0m\u001b[0m\n\u001b[1;32m---> 88\u001b[1;33m             \u001b[1;32mreturn\u001b[0m \u001b[0mfunc\u001b[0m\u001b[1;33m(\u001b[0m\u001b[1;33m*\u001b[0m\u001b[0margs\u001b[0m\u001b[1;33m,\u001b[0m \u001b[1;33m**\u001b[0m\u001b[0mkwargs\u001b[0m\u001b[1;33m)\u001b[0m\u001b[1;33m\u001b[0m\u001b[0m\n\u001b[0m\u001b[0;32m     89\u001b[0m         \u001b[1;32mreturn\u001b[0m \u001b[0mwrapper\u001b[0m\u001b[1;33m\u001b[0m\u001b[0m\n\u001b[0;32m     90\u001b[0m     \u001b[1;32mreturn\u001b[0m \u001b[0m_deprecate_kwarg\u001b[0m\u001b[1;33m\u001b[0m\u001b[0m\n",
      "\u001b[1;31mTypeError\u001b[0m: drop_duplicates() got an unexpected keyword argument 'keep'"
     ]
    }
   ],
   "source": [
    "df.drop_duplicates(keep='last')"
   ]
  },
  {
   "cell_type": "markdown",
   "metadata": {},
   "source": [
    "To display all the columns without the '...'"
   ]
  },
  {
   "cell_type": "code",
   "execution_count": 5,
   "metadata": {
    "collapsed": true
   },
   "outputs": [],
   "source": [
    "pd.set_option('display.max_columns',22)"
   ]
  },
  {
   "cell_type": "markdown",
   "metadata": {},
   "source": [
    "## The first 22 columns"
   ]
  },
  {
   "cell_type": "code",
   "execution_count": 170,
   "metadata": {
    "collapsed": false
   },
   "outputs": [
    {
     "data": {
      "text/html": [
       "<div>\n",
       "<table border=\"1\" class=\"dataframe\">\n",
       "  <thead>\n",
       "    <tr style=\"text-align: right;\">\n",
       "      <th></th>\n",
       "      <th>acct_type</th>\n",
       "      <th>approx_payout_date</th>\n",
       "      <th>body_length</th>\n",
       "      <th>channels</th>\n",
       "      <th>country</th>\n",
       "      <th>currency</th>\n",
       "      <th>delivery_method</th>\n",
       "      <th>description</th>\n",
       "      <th>email_domain</th>\n",
       "      <th>event_created</th>\n",
       "      <th>event_end</th>\n",
       "      <th>event_published</th>\n",
       "      <th>event_start</th>\n",
       "      <th>fb_published</th>\n",
       "      <th>gts</th>\n",
       "      <th>has_analytics</th>\n",
       "      <th>has_header</th>\n",
       "      <th>has_logo</th>\n",
       "      <th>listed</th>\n",
       "      <th>name</th>\n",
       "      <th>name_length</th>\n",
       "      <th>num_order</th>\n",
       "    </tr>\n",
       "  </thead>\n",
       "  <tbody>\n",
       "    <tr>\n",
       "      <th>1</th>\n",
       "      <td>0</td>\n",
       "      <td>1296720000</td>\n",
       "      <td>3499</td>\n",
       "      <td>0</td>\n",
       "      <td>US</td>\n",
       "      <td>USD</td>\n",
       "      <td>1</td>\n",
       "      <td>&lt;p&gt;Join us for a quick, one-night, community-b...</td>\n",
       "      <td>ruf.org</td>\n",
       "      <td>1293832670</td>\n",
       "      <td>1296288000</td>\n",
       "      <td>1293833295</td>\n",
       "      <td>1296255600</td>\n",
       "      <td>0</td>\n",
       "      <td>868.02</td>\n",
       "      <td>0</td>\n",
       "      <td>0</td>\n",
       "      <td>1</td>\n",
       "      <td>n</td>\n",
       "      <td>Winthrop RUF Winter Getaway</td>\n",
       "      <td>27</td>\n",
       "      <td>23</td>\n",
       "    </tr>\n",
       "    <tr>\n",
       "      <th>2</th>\n",
       "      <td>0</td>\n",
       "      <td>1296172800</td>\n",
       "      <td>2601</td>\n",
       "      <td>8</td>\n",
       "      <td>US</td>\n",
       "      <td>USD</td>\n",
       "      <td>1</td>\n",
       "      <td>&lt;h3&gt;&lt;span class=\"subcategory\"&gt;&lt;strong&gt;Teacher ...</td>\n",
       "      <td>pvsd.k12.ca.us</td>\n",
       "      <td>1291090956</td>\n",
       "      <td>1295740800</td>\n",
       "      <td>1291091908</td>\n",
       "      <td>1295713800</td>\n",
       "      <td>0</td>\n",
       "      <td>3500.00</td>\n",
       "      <td>0</td>\n",
       "      <td>NaN</td>\n",
       "      <td>0</td>\n",
       "      <td>y</td>\n",
       "      <td>DRDP (2010) Teacher Training</td>\n",
       "      <td>28</td>\n",
       "      <td>19</td>\n",
       "    </tr>\n",
       "  </tbody>\n",
       "</table>\n",
       "</div>"
      ],
      "text/plain": [
       "   acct_type  approx_payout_date  body_length  channels country currency  \\\n",
       "1          0          1296720000         3499         0      US      USD   \n",
       "2          0          1296172800         2601         8      US      USD   \n",
       "\n",
       "   delivery_method                                        description  \\\n",
       "1                1  <p>Join us for a quick, one-night, community-b...   \n",
       "2                1  <h3><span class=\"subcategory\"><strong>Teacher ...   \n",
       "\n",
       "     email_domain  event_created   event_end  event_published  event_start  \\\n",
       "1         ruf.org     1293832670  1296288000       1293833295   1296255600   \n",
       "2  pvsd.k12.ca.us     1291090956  1295740800       1291091908   1295713800   \n",
       "\n",
       "   fb_published      gts  has_analytics  has_header  has_logo listed  \\\n",
       "1             0   868.02              0           0         1      n   \n",
       "2             0  3500.00              0         NaN         0      y   \n",
       "\n",
       "                           name  name_length  num_order  \n",
       "1   Winthrop RUF Winter Getaway           27         23  \n",
       "2  DRDP (2010) Teacher Training           28         19  "
      ]
     },
     "execution_count": 170,
     "metadata": {},
     "output_type": "execute_result"
    }
   ],
   "source": [
    "df.iloc[1:3,0:22]"
   ]
  },
  {
   "cell_type": "markdown",
   "metadata": {},
   "source": [
    "### Body_Length"
   ]
  },
  {
   "cell_type": "code",
   "execution_count": 62,
   "metadata": {
    "collapsed": false
   },
   "outputs": [
    {
     "data": {
      "text/plain": [
       "count    14337.000000\n",
       "mean      3672.521936\n",
       "std       5758.113003\n",
       "min          0.000000\n",
       "25%        750.000000\n",
       "50%       1990.000000\n",
       "75%       4280.000000\n",
       "max      65535.000000\n",
       "Name: body_length, dtype: float64"
      ]
     },
     "execution_count": 62,
     "metadata": {},
     "output_type": "execute_result"
    }
   ],
   "source": [
    "df.body_length.describe()"
   ]
  },
  {
   "cell_type": "code",
   "execution_count": 122,
   "metadata": {
    "collapsed": true
   },
   "outputs": [],
   "source": [
    "df['row_num']=range(num_rows)"
   ]
  },
  {
   "cell_type": "code",
   "execution_count": 171,
   "metadata": {
    "collapsed": false
   },
   "outputs": [],
   "source": [
    "colors = np.where(df.acct_type == 1,'r','k')"
   ]
  },
  {
   "cell_type": "code",
   "execution_count": 172,
   "metadata": {
    "collapsed": false
   },
   "outputs": [
    {
     "data": {
      "text/plain": [
       "<matplotlib.axes._subplots.AxesSubplot at 0x15b5e550>"
      ]
     },
     "execution_count": 172,
     "metadata": {},
     "output_type": "execute_result"
    },
    {
     "data": {
      "image/png": "[encoded data removed]",
      "text/plain": [
       "<matplotlib.figure.Figure at 0x14fb5080>"
      ]
     },
     "metadata": {},
     "output_type": "display_data"
    }
   ],
   "source": [
    "df.plot(kind='scatter',x='row_num',y='body_length',c=colors,figsize=(12,8),s=10,edgecolors='none',alpha=.7)"
   ]
  },
  {
   "cell_type": "code",
   "execution_count": 198,
   "metadata": {
    "collapsed": true
   },
   "outputs": [],
   "source": [
    "df['body_GT1000'] = df['body_length'].map(lambda x: 0 if x <=1000 else 1)"
   ]
  },
  {
   "cell_type": "code",
   "execution_count": 209,
   "metadata": {
    "collapsed": false
   },
   "outputs": [
    {
     "data": {
      "text/plain": [
       "0.7262342839619749"
      ]
     },
     "execution_count": 209,
     "metadata": {},
     "output_type": "execute_result"
    }
   ],
   "source": [
    "(df.query('body_length > 1000 and acct_type == 0').shape[0]/13044.) "
   ]
  },
  {
   "cell_type": "code",
   "execution_count": 188,
   "metadata": {
    "collapsed": false
   },
   "outputs": [
    {
     "data": {
      "text/plain": [
       "0.33874709976798145"
      ]
     },
     "execution_count": 188,
     "metadata": {},
     "output_type": "execute_result"
    }
   ],
   "source": [
    "(df.query('body_length > 1000 and acct_type == 1').shape[0]/1293.)"
   ]
  },
  {
   "cell_type": "markdown",
   "metadata": {},
   "source": [
    "approximatly 73% of non-fraud events have a body length greater than 1000, 33% of fraud event "
   ]
  },
  {
   "cell_type": "code",
   "execution_count": 200,
   "metadata": {
    "collapsed": false
   },
   "outputs": [
    {
     "data": {
      "text/plain": [
       "acct_type\n",
       "0    13044\n",
       "1     1293\n",
       "Name: body_length, dtype: int64"
      ]
     },
     "execution_count": 200,
     "metadata": {},
     "output_type": "execute_result"
    }
   ],
   "source": [
    "df.groupby(['acct_type']).count().body_length"
   ]
  },
  {
   "cell_type": "markdown",
   "metadata": {},
   "source": [
    "testing for independence"
   ]
  },
  {
   "cell_type": "code",
   "execution_count": 210,
   "metadata": {
    "collapsed": false
   },
   "outputs": [
    {
     "data": {
      "text/html": [
       "<div>\n",
       "<table border=\"1\" class=\"dataframe\">\n",
       "  <thead>\n",
       "    <tr style=\"text-align: right;\">\n",
       "      <th>body_GT1000</th>\n",
       "      <th>0</th>\n",
       "      <th>1</th>\n",
       "      <th>All</th>\n",
       "    </tr>\n",
       "    <tr>\n",
       "      <th>acct_type</th>\n",
       "      <th></th>\n",
       "      <th></th>\n",
       "      <th></th>\n",
       "    </tr>\n",
       "  </thead>\n",
       "  <tbody>\n",
       "    <tr>\n",
       "      <th>0</th>\n",
       "      <td>3571</td>\n",
       "      <td>9473</td>\n",
       "      <td>13044</td>\n",
       "    </tr>\n",
       "    <tr>\n",
       "      <th>1</th>\n",
       "      <td>855</td>\n",
       "      <td>438</td>\n",
       "      <td>1293</td>\n",
       "    </tr>\n",
       "    <tr>\n",
       "      <th>All</th>\n",
       "      <td>4426</td>\n",
       "      <td>9911</td>\n",
       "      <td>14337</td>\n",
       "    </tr>\n",
       "  </tbody>\n",
       "</table>\n",
       "</div>"
      ],
      "text/plain": [
       "body_GT1000     0     1    All\n",
       "acct_type                     \n",
       "0            3571  9473  13044\n",
       "1             855   438   1293\n",
       "All          4426  9911  14337"
      ]
     },
     "execution_count": 210,
     "metadata": {},
     "output_type": "execute_result"
    }
   ],
   "source": [
    "pd.crosstab(df.acct_type,df.body_GT1000,margins=True)"
   ]
  },
  {
   "cell_type": "code",
   "execution_count": 212,
   "metadata": {
    "collapsed": false
   },
   "outputs": [],
   "source": [
    "observed = pd.crosstab(df.acct_type,df.body_GT1000)"
   ]
  },
  {
   "cell_type": "code",
   "execution_count": 215,
   "metadata": {
    "collapsed": false
   },
   "outputs": [
    {
     "data": {
      "text/html": [
       "<div>\n",
       "<table border=\"1\" class=\"dataframe\">\n",
       "  <thead>\n",
       "    <tr style=\"text-align: right;\">\n",
       "      <th>body_GT1000</th>\n",
       "      <th>0</th>\n",
       "      <th>1</th>\n",
       "    </tr>\n",
       "    <tr>\n",
       "      <th>acct_type</th>\n",
       "      <th></th>\n",
       "      <th></th>\n",
       "    </tr>\n",
       "  </thead>\n",
       "  <tbody>\n",
       "    <tr>\n",
       "      <th>0</th>\n",
       "      <td>3571</td>\n",
       "      <td>9473</td>\n",
       "    </tr>\n",
       "    <tr>\n",
       "      <th>1</th>\n",
       "      <td>855</td>\n",
       "      <td>438</td>\n",
       "    </tr>\n",
       "  </tbody>\n",
       "</table>\n",
       "</div>"
      ],
      "text/plain": [
       "body_GT1000     0     1\n",
       "acct_type              \n",
       "0            3571  9473\n",
       "1             855   438"
      ]
     },
     "execution_count": 215,
     "metadata": {},
     "output_type": "execute_result"
    }
   ],
   "source": [
    "observed"
   ]
  },
  {
   "cell_type": "markdown",
   "metadata": {},
   "source": [
    "Looks like the variable body_GT1000 is not independent"
   ]
  },
  {
   "cell_type": "code",
   "execution_count": 214,
   "metadata": {
    "collapsed": false
   },
   "outputs": [
    {
     "data": {
      "text/plain": [
       "(825.84802509656254,\n",
       " 1.2952261517987566e-181,\n",
       " 1L,\n",
       " array([[ 4026.83573969,  9017.16426031],\n",
       "        [  399.16426031,   893.83573969]]))"
      ]
     },
     "execution_count": 214,
     "metadata": {},
     "output_type": "execute_result"
    }
   ],
   "source": [
    "stats.chi2_contingency(observed=observed)"
   ]
  },
  {
   "cell_type": "markdown",
   "metadata": {},
   "source": [
    "### Channels"
   ]
  },
  {
   "cell_type": "code",
   "execution_count": 218,
   "metadata": {
    "collapsed": false
   },
   "outputs": [
    {
     "data": {
      "text/plain": [
       "count    14337.000000\n",
       "mean         6.176676\n",
       "std          3.860333\n",
       "min          0.000000\n",
       "25%          5.000000\n",
       "50%          6.000000\n",
       "75%          8.000000\n",
       "max         13.000000\n",
       "Name: channels, dtype: float64"
      ]
     },
     "execution_count": 218,
     "metadata": {},
     "output_type": "execute_result"
    }
   ],
   "source": [
    "df.channels.describe()"
   ]
  },
  {
   "cell_type": "code",
   "execution_count": 219,
   "metadata": {
    "collapsed": false
   },
   "outputs": [
    {
     "data": {
      "text/plain": [
       "array([ 5,  0,  8,  6, 11, 12,  4, 10, 13,  9,  7], dtype=int64)"
      ]
     },
     "execution_count": 219,
     "metadata": {},
     "output_type": "execute_result"
    }
   ],
   "source": [
    "df.channels.unique()"
   ]
  },
  {
   "cell_type": "code",
   "execution_count": 220,
   "metadata": {
    "collapsed": false
   },
   "outputs": [
    {
     "data": {
      "text/plain": [
       "<matplotlib.axes._subplots.AxesSubplot at 0x27598ef0>"
      ]
     },
     "execution_count": 220,
     "metadata": {},
     "output_type": "execute_result"
    },
    {
     "data": {
      "image/png": "[encoded data removed]",
      "text/plain": [
       "<matplotlib.figure.Figure at 0x275a6b00>"
      ]
     },
     "metadata": {},
     "output_type": "display_data"
    }
   ],
   "source": [
    "df.channels.hist()"
   ]
  },
  {
   "cell_type": "code",
   "execution_count": 226,
   "metadata": {
    "collapsed": false
   },
   "outputs": [
    {
     "data": {
      "text/html": [
       "<div>\n",
       "<table border=\"1\" class=\"dataframe\">\n",
       "  <thead>\n",
       "    <tr style=\"text-align: right;\">\n",
       "      <th>channels</th>\n",
       "      <th>0</th>\n",
       "      <th>4</th>\n",
       "      <th>5</th>\n",
       "      <th>6</th>\n",
       "      <th>7</th>\n",
       "      <th>8</th>\n",
       "      <th>9</th>\n",
       "      <th>10</th>\n",
       "      <th>11</th>\n",
       "      <th>12</th>\n",
       "      <th>13</th>\n",
       "      <th>All</th>\n",
       "    </tr>\n",
       "    <tr>\n",
       "      <th>acct_type</th>\n",
       "      <th></th>\n",
       "      <th></th>\n",
       "      <th></th>\n",
       "      <th></th>\n",
       "      <th></th>\n",
       "      <th></th>\n",
       "      <th></th>\n",
       "      <th></th>\n",
       "      <th></th>\n",
       "      <th></th>\n",
       "      <th></th>\n",
       "      <th></th>\n",
       "    </tr>\n",
       "  </thead>\n",
       "  <tbody>\n",
       "    <tr>\n",
       "      <th>0</th>\n",
       "      <td>2375</td>\n",
       "      <td>531</td>\n",
       "      <td>2229</td>\n",
       "      <td>1574</td>\n",
       "      <td>8</td>\n",
       "      <td>3255</td>\n",
       "      <td>19</td>\n",
       "      <td>229</td>\n",
       "      <td>2169</td>\n",
       "      <td>454</td>\n",
       "      <td>201</td>\n",
       "      <td>13044</td>\n",
       "    </tr>\n",
       "    <tr>\n",
       "      <th>1</th>\n",
       "      <td>566</td>\n",
       "      <td>25</td>\n",
       "      <td>230</td>\n",
       "      <td>162</td>\n",
       "      <td>2</td>\n",
       "      <td>109</td>\n",
       "      <td>1</td>\n",
       "      <td>8</td>\n",
       "      <td>143</td>\n",
       "      <td>16</td>\n",
       "      <td>31</td>\n",
       "      <td>1293</td>\n",
       "    </tr>\n",
       "    <tr>\n",
       "      <th>All</th>\n",
       "      <td>2941</td>\n",
       "      <td>556</td>\n",
       "      <td>2459</td>\n",
       "      <td>1736</td>\n",
       "      <td>10</td>\n",
       "      <td>3364</td>\n",
       "      <td>20</td>\n",
       "      <td>237</td>\n",
       "      <td>2312</td>\n",
       "      <td>470</td>\n",
       "      <td>232</td>\n",
       "      <td>14337</td>\n",
       "    </tr>\n",
       "  </tbody>\n",
       "</table>\n",
       "</div>"
      ],
      "text/plain": [
       "channels      0    4     5     6   7     8   9   10    11   12   13    All\n",
       "acct_type                                                                 \n",
       "0          2375  531  2229  1574   8  3255  19  229  2169  454  201  13044\n",
       "1           566   25   230   162   2   109   1    8   143   16   31   1293\n",
       "All        2941  556  2459  1736  10  3364  20  237  2312  470  232  14337"
      ]
     },
     "execution_count": 226,
     "metadata": {},
     "output_type": "execute_result"
    }
   ],
   "source": [
    "pd.crosstab(df.acct_type,df.channels,margins=True)"
   ]
  },
  {
   "cell_type": "code",
   "execution_count": 238,
   "metadata": {
    "collapsed": false
   },
   "outputs": [],
   "source": [
    "channels_table=pd.crosstab(df.channels,df.acct_type)"
   ]
  },
  {
   "cell_type": "code",
   "execution_count": 266,
   "metadata": {
    "collapsed": false
   },
   "outputs": [
    {
     "data": {
      "image/png": "[encoded data removed]",
      "text/plain": [
       "<matplotlib.figure.Figure at 0x1930bdf28>"
      ]
     },
     "metadata": {},
     "output_type": "display_data"
    }
   ],
   "source": [
    "ax = channels_table.plot(kind='bar')"
   ]
  },
  {
   "cell_type": "code",
   "execution_count": 267,
   "metadata": {
    "collapsed": false
   },
   "outputs": [],
   "source": [
    "ax.yaxis.set_major_formatter(FuncFormatter(lambda y, _: '{:.0%}'.format(y)))"
   ]
  },
  {
   "cell_type": "code",
   "execution_count": 270,
   "metadata": {
    "collapsed": false
   },
   "outputs": [
    {
     "data": {
      "text/plain": [
       "<matplotlib.axes._subplots.AxesSubplot at 0x193f34d30>"
      ]
     },
     "execution_count": 270,
     "metadata": {},
     "output_type": "execute_result"
    }
   ],
   "source": [
    "ax"
   ]
  },
  {
   "cell_type": "code",
   "execution_count": 269,
   "metadata": {
    "collapsed": false
   },
   "outputs": [],
   "source": [
    "plt.show()"
   ]
  },
  {
   "cell_type": "code",
   "execution_count": 225,
   "metadata": {
    "collapsed": false
   },
   "outputs": [
    {
     "data": {
      "text/plain": [
       "(583.21920241920282,\n",
       " 6.9268047171528313e-119,\n",
       " 10L,\n",
       " array([[  2.67576229e+03,   5.05856455e+02,   2.23723206e+03,\n",
       "           1.57943670e+03,   9.09813769e+00,   3.06061352e+03,\n",
       "           1.81962754e+01,   2.15625863e+02,   2.10348943e+03,\n",
       "           4.27612471e+02,   2.11076794e+02],\n",
       "        [  2.65237707e+02,   5.01435447e+01,   2.21767943e+02,\n",
       "           1.56563298e+02,   9.01862314e-01,   3.03386483e+02,\n",
       "           1.80372463e+00,   2.13741368e+01,   2.08510567e+02,\n",
       "           4.23875288e+01,   2.09232057e+01]]))"
      ]
     },
     "execution_count": 225,
     "metadata": {},
     "output_type": "execute_result"
    }
   ],
   "source": [
    "stats.chi2_contingency(observed=channels_table)"
   ]
  },
  {
   "cell_type": "markdown",
   "metadata": {},
   "source": [
    "## Remaining Columns "
   ]
  },
  {
   "cell_type": "code",
   "execution_count": 7,
   "metadata": {
    "collapsed": false
   },
   "outputs": [
    {
     "data": {
      "text/html": [
       "<div>\n",
       "<table border=\"1\" class=\"dataframe\">\n",
       "  <thead>\n",
       "    <tr style=\"text-align: right;\">\n",
       "      <th></th>\n",
       "      <th>num_payouts</th>\n",
       "      <th>object_id</th>\n",
       "      <th>org_desc</th>\n",
       "      <th>org_facebook</th>\n",
       "      <th>org_name</th>\n",
       "      <th>org_twitter</th>\n",
       "      <th>payee_name</th>\n",
       "      <th>payout_type</th>\n",
       "      <th>previous_payouts</th>\n",
       "      <th>sale_duration</th>\n",
       "      <th>sale_duration2</th>\n",
       "      <th>show_map</th>\n",
       "      <th>ticket_types</th>\n",
       "      <th>user_age</th>\n",
       "      <th>user_created</th>\n",
       "      <th>user_type</th>\n",
       "      <th>venue_address</th>\n",
       "      <th>venue_country</th>\n",
       "      <th>venue_latitude</th>\n",
       "      <th>venue_longitude</th>\n",
       "      <th>venue_name</th>\n",
       "      <th>venue_state</th>\n",
       "    </tr>\n",
       "  </thead>\n",
       "  <tbody>\n",
       "    <tr>\n",
       "      <th>1</th>\n",
       "      <td>1</td>\n",
       "      <td>786878</td>\n",
       "      <td>&lt;p&gt;Since 1987, RUF has ministered to students ...</td>\n",
       "      <td>0</td>\n",
       "      <td>RUF at Winthrop University</td>\n",
       "      <td>12</td>\n",
       "      <td>RUF</td>\n",
       "      <td>CHECK</td>\n",
       "      <td>[{u'name': u'RUF', u'created': u'2010-10-01 01...</td>\n",
       "      <td>28</td>\n",
       "      <td>28</td>\n",
       "      <td>0</td>\n",
       "      <td>[{u'event_id': 786878, u'cost': 35.0, u'availa...</td>\n",
       "      <td>149</td>\n",
       "      <td>1280942776</td>\n",
       "      <td>3</td>\n",
       "      <td></td>\n",
       "      <td>US</td>\n",
       "      <td>32.776566</td>\n",
       "      <td>-79.930922</td>\n",
       "      <td>The Charleston, SC area</td>\n",
       "      <td>SC</td>\n",
       "    </tr>\n",
       "    <tr>\n",
       "      <th>2</th>\n",
       "      <td>4</td>\n",
       "      <td>787337</td>\n",
       "      <td>&lt;p&gt;&lt;a href=\"http://www.desiredresults.com\"&gt;www...</td>\n",
       "      <td>0</td>\n",
       "      <td>University Preparation School in collaboration...</td>\n",
       "      <td>0</td>\n",
       "      <td>University Preparation School</td>\n",
       "      <td>CHECK</td>\n",
       "      <td>[{u'name': u'Danielle Severn', u'created': u'2...</td>\n",
       "      <td>54</td>\n",
       "      <td>54</td>\n",
       "      <td>0</td>\n",
       "      <td>[{u'event_id': 787337, u'cost': 93.51, u'avail...</td>\n",
       "      <td>214</td>\n",
       "      <td>1272559388</td>\n",
       "      <td>3</td>\n",
       "      <td>10100 Pioneer Blvd Suite 100</td>\n",
       "      <td>US</td>\n",
       "      <td>33.944201</td>\n",
       "      <td>-118.080419</td>\n",
       "      <td>Los Angeles County Office of Education</td>\n",
       "      <td>CA</td>\n",
       "    </tr>\n",
       "  </tbody>\n",
       "</table>\n",
       "</div>"
      ],
      "text/plain": [
       "   num_payouts  object_id                                           org_desc  \\\n",
       "1            1     786878  <p>Since 1987, RUF has ministered to students ...   \n",
       "2            4     787337  <p><a href=\"http://www.desiredresults.com\">www...   \n",
       "\n",
       "   org_facebook                                           org_name  \\\n",
       "1             0                         RUF at Winthrop University   \n",
       "2             0  University Preparation School in collaboration...   \n",
       "\n",
       "   org_twitter                     payee_name payout_type  \\\n",
       "1           12                            RUF       CHECK   \n",
       "2            0  University Preparation School       CHECK   \n",
       "\n",
       "                                    previous_payouts  sale_duration  \\\n",
       "1  [{u'name': u'RUF', u'created': u'2010-10-01 01...             28   \n",
       "2  [{u'name': u'Danielle Severn', u'created': u'2...             54   \n",
       "\n",
       "   sale_duration2  show_map  \\\n",
       "1              28         0   \n",
       "2              54         0   \n",
       "\n",
       "                                        ticket_types  user_age  user_created  \\\n",
       "1  [{u'event_id': 786878, u'cost': 35.0, u'availa...       149    1280942776   \n",
       "2  [{u'event_id': 787337, u'cost': 93.51, u'avail...       214    1272559388   \n",
       "\n",
       "   user_type                 venue_address venue_country  venue_latitude  \\\n",
       "1          3                                          US       32.776566   \n",
       "2          3  10100 Pioneer Blvd Suite 100            US       33.944201   \n",
       "\n",
       "   venue_longitude                              venue_name venue_state  \n",
       "1       -79.930922                 The Charleston, SC area          SC  \n",
       "2      -118.080419  Los Angeles County Office of Education          CA  "
      ]
     },
     "execution_count": 7,
     "metadata": {},
     "output_type": "execute_result"
    }
   ],
   "source": [
    "df.iloc[1:3,22:]"
   ]
  },
  {
   "cell_type": "code",
   "execution_count": 8,
   "metadata": {
    "collapsed": false,
    "scrolled": false
   },
   "outputs": [
    {
     "data": {
      "text/html": [
       "<div>\n",
       "<table border=\"1\" class=\"dataframe\">\n",
       "  <thead>\n",
       "    <tr style=\"text-align: right;\">\n",
       "      <th></th>\n",
       "      <th>venue_latitude</th>\n",
       "      <th>venue_longitude</th>\n",
       "      <th>venue_name</th>\n",
       "      <th>venue_state</th>\n",
       "    </tr>\n",
       "  </thead>\n",
       "  <tbody>\n",
       "    <tr>\n",
       "      <th>1</th>\n",
       "      <td>32.776566</td>\n",
       "      <td>-79.930922</td>\n",
       "      <td>The Charleston, SC area</td>\n",
       "      <td>SC</td>\n",
       "    </tr>\n",
       "    <tr>\n",
       "      <th>2</th>\n",
       "      <td>33.944201</td>\n",
       "      <td>-118.080419</td>\n",
       "      <td>Los Angeles County Office of Education</td>\n",
       "      <td>CA</td>\n",
       "    </tr>\n",
       "  </tbody>\n",
       "</table>\n",
       "</div>"
      ],
      "text/plain": [
       "   venue_latitude  venue_longitude                              venue_name  \\\n",
       "1       32.776566       -79.930922                 The Charleston, SC area   \n",
       "2       33.944201      -118.080419  Los Angeles County Office of Education   \n",
       "\n",
       "  venue_state  \n",
       "1          SC  \n",
       "2          CA  "
      ]
     },
     "execution_count": 8,
     "metadata": {},
     "output_type": "execute_result"
    }
   ],
   "source": [
    "df.iloc[1:3,40:]"
   ]
  },
  {
   "cell_type": "markdown",
   "metadata": {},
   "source": [
    "## Target variable"
   ]
  },
  {
   "cell_type": "code",
   "execution_count": 9,
   "metadata": {
    "collapsed": false
   },
   "outputs": [
    {
     "data": {
      "text/plain": [
       "count       14337\n",
       "unique         12\n",
       "top       premium\n",
       "freq        12373\n",
       "Name: acct_type, dtype: object"
      ]
     },
     "execution_count": 9,
     "metadata": {},
     "output_type": "execute_result"
    }
   ],
   "source": [
    "df.iloc[:,0].describe()"
   ]
  },
  {
   "cell_type": "code",
   "execution_count": 10,
   "metadata": {
    "collapsed": false
   },
   "outputs": [
    {
     "data": {
      "text/plain": [
       "array([u'fraudster_event', u'premium', u'spammer_warn', u'fraudster',\n",
       "       u'spammer_limited', u'spammer_noinvite', u'locked', u'tos_lock',\n",
       "       u'tos_warn', u'fraudster_att', u'spammer_web', u'spammer'], dtype=object)"
      ]
     },
     "execution_count": 10,
     "metadata": {},
     "output_type": "execute_result"
    }
   ],
   "source": [
    "df['acct_type'].unique()"
   ]
  },
  {
   "cell_type": "markdown",
   "metadata": {},
   "source": [
    "Transforming the target variable: if the target variable contains the string \"fraud\" then mark it as a 1 else 0 "
   ]
  },
  {
   "cell_type": "code",
   "execution_count": 151,
   "metadata": {
    "collapsed": false
   },
   "outputs": [],
   "source": [
    "df['acct_type'] = df['acct_type'].map(lambda x: 0 if 'fraud' not in x else 1)"
   ]
  },
  {
   "cell_type": "markdown",
   "metadata": {},
   "source": [
    "There are ~10X more non-fraud event than fraud events"
   ]
  },
  {
   "cell_type": "code",
   "execution_count": 195,
   "metadata": {
    "collapsed": false
   },
   "outputs": [],
   "source": [
    "num_nf,num_f = df.groupby('acct_type').count().row_num.values"
   ]
  },
  {
   "cell_type": "code",
   "execution_count": 197,
   "metadata": {
    "collapsed": false
   },
   "outputs": [
    {
     "data": {
      "text/plain": [
       "array([13044,  1293], dtype=int64)"
      ]
     },
     "execution_count": 197,
     "metadata": {},
     "output_type": "execute_result"
    }
   ],
   "source": [
    "df.groupby('acct_type').count().row_num.values"
   ]
  },
  {
   "cell_type": "markdown",
   "metadata": {},
   "source": [
    "# Misc"
   ]
  },
  {
   "cell_type": "code",
   "execution_count": 71,
   "metadata": {
    "collapsed": false
   },
   "outputs": [
    {
     "data": {
      "text/plain": [
       "<matplotlib.axes._subplots.AxesSubplot at 0x46475828>"
      ]
     },
     "execution_count": 71,
     "metadata": {},
     "output_type": "execute_result"
    },
    {
     "data": {
      "image/png": "[encoded data removed]",
      "text/plain": [
       "<matplotlib.figure.Figure at 0x1a643048>"
      ]
     },
     "metadata": {},
     "output_type": "display_data"
    }
   ],
   "source": [
    "df.boxplot(column='body_length',by='acct_type')"
   ]
  },
  {
   "cell_type": "code",
   "execution_count": 63,
   "metadata": {
    "collapsed": false
   },
   "outputs": [
    {
     "data": {
      "text/plain": [
       "<matplotlib.axes._subplots.AxesSubplot at 0x46480ba8>"
      ]
     },
     "execution_count": 63,
     "metadata": {},
     "output_type": "execute_result"
    },
    {
     "data": {
      "image/png": "[encoded data removed]",
      "text/plain": [
       "<matplotlib.figure.Figure at 0x4645a3c8>"
      ]
     },
     "metadata": {},
     "output_type": "display_data"
    }
   ],
   "source": [
    "df.body_length.plot(kind='hist')"
   ]
  },
  {
   "cell_type": "code",
   "execution_count": 205,
   "metadata": {
    "collapsed": false
   },
   "outputs": [
    {
     "data": {
      "text/html": [
       "<div>\n",
       "<table border=\"1\" class=\"dataframe\">\n",
       "  <thead>\n",
       "    <tr style=\"text-align: right;\">\n",
       "      <th>body_GT1000</th>\n",
       "      <th>0</th>\n",
       "      <th>1</th>\n",
       "    </tr>\n",
       "    <tr>\n",
       "      <th>acct_type</th>\n",
       "      <th></th>\n",
       "      <th></th>\n",
       "    </tr>\n",
       "  </thead>\n",
       "  <tbody>\n",
       "    <tr>\n",
       "      <th>0</th>\n",
       "      <td>422.027723</td>\n",
       "      <td>5193.169640</td>\n",
       "    </tr>\n",
       "    <tr>\n",
       "      <th>1</th>\n",
       "      <td>240.333333</td>\n",
       "      <td>3985.171233</td>\n",
       "    </tr>\n",
       "  </tbody>\n",
       "</table>\n",
       "</div>"
      ],
      "text/plain": [
       "body_GT1000           0            1\n",
       "acct_type                           \n",
       "0            422.027723  5193.169640\n",
       "1            240.333333  3985.171233"
      ]
     },
     "execution_count": 205,
     "metadata": {},
     "output_type": "execute_result"
    }
   ],
   "source": [
    "pd.pivot_table(df,index=['acct_type'],columns=['body_GT1000'],values='body_length')"
   ]
  },
  {
   "cell_type": "code",
   "execution_count": 43,
   "metadata": {
    "collapsed": false
   },
   "outputs": [],
   "source": [
    "df['approx_payout_date'] = pd.to_datetime(df['approx_payout_date'],unit='s') #you can use .dt.date to just get the dateV"
   ]
  }
 ],
 "metadata": {
  "kernelspec": {
   "display_name": "Python 2",
   "language": "python",
   "name": "python2"
  },
  "language_info": {
   "codemirror_mode": {
    "name": "ipython",
    "version": 2
   },
   "file_extension": ".py",
   "mimetype": "text/x-python",
   "name": "python",
   "nbconvert_exporter": "python",
   "pygments_lexer": "ipython2",
   "version": "2.7.12"
  }
 },
 "nbformat": 4,
 "nbformat_minor": 0
}
